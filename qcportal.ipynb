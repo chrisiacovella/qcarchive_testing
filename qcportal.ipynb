{
 "cells": [
  {
   "cell_type": "code",
   "execution_count": 13,
   "id": "87ded966-34de-474f-aac6-1d86aabde8f0",
   "metadata": {},
   "outputs": [],
   "source": [
    "import os, sys\n",
    "import numpy as np\n",
    "import qcportal as ptl\n",
    "import pandas as pd\n"
   ]
  },
  {
   "cell_type": "code",
   "execution_count": 14,
   "id": "34d37450-8faf-4061-adad-2ffb980dcc7c",
   "metadata": {},
   "outputs": [],
   "source": [
    "def load_QM9(input_file=None, output_file=None):\n",
    "    \"\"\"Load the QM9 datset sourced from qcportal\n",
    "    \n",
    "    Parameters\n",
    "    ----------\n",
    "    input_file : str, optional, default=None\n",
    "        The locally stored hdf5 file of the QM9 dataset to load. \n",
    "        If not provided, the data will be fetched from qcarchive.\n",
    "    output_file : str, optional, default=None\n",
    "        The name defining where to save the dataset locally.\n",
    "        If input_file and output_file are both None, the dataset will be deleted upon exit.\n",
    "\n",
    "    Returns\n",
    "    --------\n",
    "    qcportal.collections.dataset.Dataset, \n",
    "        The qm9 dataset\n",
    "    \"\"\"\n",
    "    qcp_client = ptl.FractalClient()\n",
    "\n",
    "    # to get QM9 from qcportal, we need to define which collection and QM9\n",
    "    # we will first check to see if it exists \n",
    "    qcportal_data = {'collection': 'Dataset', 'dataset': 'QM9'}\n",
    "\n",
    "    try: \n",
    "        qm9 = qcp_client.get_collection(qcportal_data['collection'], qcportal_data['dataset'])\n",
    "    except:\n",
    "        print(f\"Dataset {qcportal_data['dataset']} is not available in collection {qcportal_data['collection']}.\")\n",
    "    \n",
    "    if input_file is None:\n",
    "        # if we don't define output_file below, the data we download\n",
    "        # will be deleted upon exit.\n",
    "        if not output_file is None:\n",
    "            qm9.download()\n",
    "        else:\n",
    "            qm9.download(local_path=output_file)\n",
    "\n",
    "        \"\"\"\n",
    "        # note this is failing due to issues with distutils in qcportal\n",
    "        # \n",
    "\n",
    "        if not output_file is None:\n",
    "            #need some error checking here.  probably want to raise errors in the real code\n",
    "            assert output_file.endswith('.hdf5')\n",
    "            qm9.to_file(path=output_file, encoding='hdf5')\n",
    "        \"\"\"  \n",
    "    else:\n",
    "        # again, better error checking is probably required\n",
    "        # but this is probably good enough\n",
    "        assert input_file.endswith('.hdf5')\n",
    "        qm9.set_view(input_file)\n",
    "\n",
    "    \n",
    "    return qm9\n",
    "    "
   ]
  },
  {
   "cell_type": "code",
   "execution_count": 15,
   "id": "71d8ccb6-13c8-4e65-91ce-dfe1243f6c53",
   "metadata": {},
   "outputs": [],
   "source": [
    "def parse_data(qm9):\n",
    "    \n",
    "    \"\"\"Parse the QM9 datset into a dictionaries\n",
    "\n",
    "    Note: this function takes a while to run, as retrieving the records\n",
    "    appears to be a bit slow given the dataset size.\n",
    "    \n",
    "    Parameters\n",
    "    ----------\n",
    "    qm9 : qcportal.collections.dataset.Dataset\n",
    "        The Dataset to parse\n",
    "   \n",
    "    Returns\n",
    "    --------\n",
    "    tuple, (list, dict, dict) \n",
    "        The first index is a list of molecule names\n",
    "        The second index is a dictionary of molecule geometry information, keyed by name.\n",
    "        the third index is a dictionary of molecule QM properties, keyed by name.\n",
    "    \"\"\"\n",
    "    \n",
    "    molecules = qm9.get_molecules()\n",
    "\n",
    "    # just going to restrict to this for demo purposes now\n",
    "    # this could easily be an argument\n",
    "    records  = qm9.get_records(method='b3lyp')\n",
    "\n",
    "    # the order of molecules and records in the dataframes provided by qcportal \n",
    "    # is not guaranteed. Use dicts keyed by the named for each property.\n",
    "    \n",
    "    records_dict = {} \n",
    "    molecules_dict = {}\n",
    "\n",
    "    names = []\n",
    "    \n",
    "    for i in range(molecules.shape[0]):\n",
    "        name = molecules.iloc[i].name\n",
    "        molecules_dict[name] = molecules.iloc[i][0]\n",
    "        names.append(name)\n",
    "        \n",
    "    for i in range(len(records)):\n",
    "        rec = records.iloc[i].record\n",
    "        name = records.index[i]\n",
    "        records_dict[name] = rec\n",
    "        \n",
    "    return (names, molecules_dict, records_dict)"
   ]
  },
  {
   "cell_type": "code",
   "execution_count": 16,
   "id": "899543ac-fb27-4146-b7b9-c503695a23b4",
   "metadata": {},
   "outputs": [],
   "source": [
    "qm9 = load_QM9(input_file='/Users/cri/Documents/Projects-msk/qcarchive/qm9.hdf5')"
   ]
  },
  {
   "cell_type": "code",
   "execution_count": 17,
   "id": "0a7ae1c6-696a-43a8-a266-5b05f5d89450",
   "metadata": {},
   "outputs": [
    {
     "name": "stdout",
     "output_type": "stream",
     "text": [
      "CPU times: user 1min 1s, sys: 14.6 s, total: 1min 16s\n",
      "Wall time: 11min 16s\n"
     ]
    }
   ],
   "source": [
    "%time names, molecules, records = parse_data(qm9)"
   ]
  },
  {
   "cell_type": "code",
   "execution_count": 18,
   "id": "8ac29f6b-8ddb-4a1e-8350-a7b9fbd56726",
   "metadata": {},
   "outputs": [
    {
     "data": {
      "text/plain": [
       "0.6363636363636364"
      ]
     },
     "execution_count": 18,
     "metadata": {},
     "output_type": "execute_result"
    }
   ],
   "source": [
    "7/11"
   ]
  },
  {
   "cell_type": "markdown",
   "id": "42e04e88-ff51-4cca-8d78-3cc1f835b9fd",
   "metadata": {},
   "source": [
    "Let us just look at the arbitrary molecule from the names list to explore the structure of the information from qcportal. \n",
    "\n",
    "Just call an individual molecule will default to visualizing it. "
   ]
  },
  {
   "cell_type": "code",
   "execution_count": 6,
   "id": "161c20ed-e73a-41c4-b404-08de33b4356f",
   "metadata": {},
   "outputs": [
    {
     "data": {
      "application/vnd.jupyter.widget-view+json": {
       "model_id": "542e16e61aba471ba006f77415878e7c",
       "version_major": 2,
       "version_minor": 0
      },
      "text/plain": []
     },
     "metadata": {},
     "output_type": "display_data"
    },
    {
     "data": {
      "application/vnd.jupyter.widget-view+json": {
       "model_id": "68ad11415f7f40dcbcca063bbc1288d4",
       "version_major": 2,
       "version_minor": 0
      },
      "text/plain": [
       "NGLWidget()"
      ]
     },
     "metadata": {},
     "output_type": "display_data"
    }
   ],
   "source": [
    "molecules[names[200]]"
   ]
  },
  {
   "cell_type": "code",
   "execution_count": null,
   "id": "c65d0377-c486-4408-a67a-9c71be03d199",
   "metadata": {},
   "outputs": [],
   "source": [
    "print(molecules[names[200]])"
   ]
  },
  {
   "cell_type": "markdown",
   "id": "b156c77b-ad2b-48a0-9203-5d5551daead4",
   "metadata": {},
   "source": [
    "For each molecule, we can see the info stored via the `dict` function which, as the function name suggests, returns a dictionary of the molecule properties/info."
   ]
  },
  {
   "cell_type": "code",
   "execution_count": 7,
   "id": "4abccf50-6b78-476a-8944-54b9bab1fe6c",
   "metadata": {},
   "outputs": [
    {
     "data": {
      "text/plain": [
       "{'schema_name': 'qcschema_molecule',\n",
       " 'schema_version': 2,\n",
       " 'validated': True,\n",
       " 'symbols': array(['C', 'C', 'N', 'C', 'C', 'N', 'C', 'C', 'H', 'H', 'H', 'H', 'H',\n",
       "        'H', 'H', 'H'], dtype='<U1'),\n",
       " 'geometry': array([[-1.39051210e-01,  2.83318818e+00, -1.65827600e-02],\n",
       "        [-5.01442800e-02, -6.25411000e-03,  5.31336900e-02],\n",
       "        [ 3.64649400e-02, -1.19749836e+00, -2.18241027e+00],\n",
       "        [ 1.16266390e-01, -3.72038431e+00, -2.16145846e+00],\n",
       "        [ 2.13221080e-01, -5.05322009e+00, -4.66981902e+00],\n",
       "        [ 1.17849420e-01, -5.18739469e+00, -9.15737600e-02],\n",
       "        [ 3.14795800e-02, -3.98373004e+00,  2.11532670e+00],\n",
       "        [-5.59533500e-02, -1.36624272e+00,  2.30630329e+00],\n",
       "        [ 1.52032710e+00,  3.57197760e+00, -1.00609064e+00],\n",
       "        [-1.79899626e+00,  3.46631919e+00, -1.07595343e+00],\n",
       "        [-2.04921830e-01,  3.64663564e+00,  1.87950305e+00],\n",
       "        [ 1.91393720e+00, -6.22452692e+00, -4.79036663e+00],\n",
       "        [-1.40453398e+00, -6.32768411e+00, -4.86377329e+00],\n",
       "        [ 2.04735130e-01, -3.68692218e+00, -6.21129440e+00],\n",
       "        [ 3.22407800e-02, -5.16167892e+00,  3.80168817e+00],\n",
       "        [-1.25360320e-01, -4.29621550e-01,  4.12596607e+00]]),\n",
       " 'name': 'C6H8N2',\n",
       " 'identifiers': {'molecule_hash': '627bb3314bf439954cf2296ef02b78aad31656ae',\n",
       "  'molecular_formula': 'C6H8N2',\n",
       "  'smiles': None,\n",
       "  'inchi': None,\n",
       "  'inchikey': None,\n",
       "  'canonical_explicit_hydrogen_smiles': None,\n",
       "  'canonical_isomeric_explicit_hydrogen_mapped_smiles': None,\n",
       "  'canonical_isomeric_explicit_hydrogen_smiles': None,\n",
       "  'canonical_isomeric_smiles': None,\n",
       "  'canonical_smiles': None},\n",
       " 'comment': None,\n",
       " 'molecular_charge': 0.0,\n",
       " 'molecular_multiplicity': 1,\n",
       " 'masses': array([12.        , 12.        , 14.003074  , 12.        , 12.        ,\n",
       "        14.003074  , 12.        , 12.        ,  1.00782503,  1.00782503,\n",
       "         1.00782503,  1.00782503,  1.00782503,  1.00782503,  1.00782503,\n",
       "         1.00782503]),\n",
       " 'real': array([ True,  True,  True,  True,  True,  True,  True,  True,  True,\n",
       "         True,  True,  True,  True,  True,  True,  True]),\n",
       " 'atom_labels': array(['', '', '', '', '', '', '', '', '', '', '', '', '', '', '', ''],\n",
       "       dtype='<U1'),\n",
       " 'atomic_numbers': array([6, 6, 7, 6, 6, 7, 6, 6, 1, 1, 1, 1, 1, 1, 1, 1], dtype=int16),\n",
       " 'mass_numbers': array([12, 12, 14, 12, 12, 14, 12, 12,  1,  1,  1,  1,  1,  1,  1,  1],\n",
       "       dtype=int16),\n",
       " 'connectivity': None,\n",
       " 'fragments': [array([ 0,  1,  2,  3,  4,  5,  6,  7,  8,  9, 10, 11, 12, 13, 14, 15],\n",
       "        dtype=int32)],\n",
       " 'fragment_charges': [0.0],\n",
       " 'fragment_multiplicities': [1],\n",
       " 'fix_com': True,\n",
       " 'fix_orientation': True,\n",
       " 'fix_symmetry': None,\n",
       " 'provenance': {'creator': 'QCElemental',\n",
       "  'version': 'v0.7.0',\n",
       "  'routine': 'qcelemental.molparse.from_schema'},\n",
       " 'id': '3611152',\n",
       " 'extras': None}"
      ]
     },
     "execution_count": 7,
     "metadata": {},
     "output_type": "execute_result"
    }
   ],
   "source": [
    "molecules[names[200]].dict()"
   ]
  },
  {
   "cell_type": "code",
   "execution_count": 10,
   "id": "0dc7c365-f767-4208-9fb4-e83d8350323c",
   "metadata": {},
   "outputs": [
    {
     "data": {
      "text/plain": [
       "'dsgdb9nsd_087380'"
      ]
     },
     "execution_count": 10,
     "metadata": {},
     "output_type": "execute_result"
    }
   ],
   "source": [
    "names[0]"
   ]
  },
  {
   "cell_type": "markdown",
   "id": "79ba50f9-325d-4b3b-9fa9-8a2ef30789c9",
   "metadata": {},
   "source": [
    "We can easily access any of the quantities listed in the dict, e.g., geometry.  Some of the properties have multiple access points, e.g, could also called `molecules[names[200]].geometry`"
   ]
  },
  {
   "cell_type": "code",
   "execution_count": 11,
   "id": "b4597837-34aa-4074-a340-36bf768fa6e7",
   "metadata": {},
   "outputs": [
    {
     "data": {
      "text/plain": [
       "array([[-0.04041566,  2.74344493, -0.65039891],\n",
       "       [ 0.08658344, -0.0432305 , -0.0912989 ],\n",
       "       [ 2.51601522, -1.21345819, -0.20646512],\n",
       "       [ 1.29307705, -1.14870993,  2.17623057],\n",
       "       [ 2.3617901 , -0.04071865,  4.66922479],\n",
       "       [ 1.61007472,  2.60608   ,  5.51963152],\n",
       "       [ 1.12950728, -2.30096348,  6.12986142],\n",
       "       [ 0.41850848, -3.50320787,  3.57589577],\n",
       "       [-0.42497824, -5.49861056,  2.92809407],\n",
       "       [ 1.56663697,  3.74232639,  0.16847553],\n",
       "       [-0.01539865,  3.045327  , -2.69750579],\n",
       "       [-1.79044758,  3.56241374,  0.08895625],\n",
       "       [-1.40628846, -1.18569908, -0.94301317],\n",
       "       [ 4.42202371, -0.22821917,  4.65510567],\n",
       "       [-0.44152455,  2.86942755,  5.43861731],\n",
       "       [ 2.20744337,  2.92552075,  7.47485868],\n",
       "       [ 2.48903828,  4.07080792,  4.35653387],\n",
       "       [ 2.3775782 , -3.44021712,  7.31562907],\n",
       "       [-0.53583381, -1.7731344 ,  7.24008159]])"
      ]
     },
     "execution_count": 11,
     "metadata": {},
     "output_type": "execute_result"
    }
   ],
   "source": [
    "molecules[names[0]].dict()['geometry']"
   ]
  },
  {
   "cell_type": "markdown",
   "id": "cedc6ffb-96f8-43c6-ad9a-100d2219ce3f",
   "metadata": {},
   "source": [
    "Similarly, we can see the QM related info stored for each record.  "
   ]
  },
  {
   "cell_type": "code",
   "execution_count": 12,
   "id": "a794150c-0b71-437b-a47c-53492d18cb71",
   "metadata": {},
   "outputs": [
    {
     "data": {
      "text/plain": [
       "{'id': '4980271',\n",
       " 'hash_index': None,\n",
       " 'procedure': 'single',\n",
       " 'program': 'psi4',\n",
       " 'version': 1,\n",
       " 'protocols': {},\n",
       " 'extras': {'qcvars': {'CURRENT DIPOLE X': -0.4094730292125962,\n",
       "   'CURRENT DIPOLE Y': 3.365837001975174,\n",
       "   'CURRENT DIPOLE Z': 1.4725107550328682,\n",
       "   'CURRENT ENERGY': -422.83362082526696,\n",
       "   'CURRENT REFERENCE ENERGY': -422.83362082526696,\n",
       "   'DFT FUNCTIONAL TOTAL ENERGY': -422.833620825267,\n",
       "   'DFT TOTAL ENERGY': -422.833620825267,\n",
       "   'DFT VV10 ENERGY': 0.0,\n",
       "   'DFT XC ENERGY': -47.61689880437887,\n",
       "   'NUCLEAR REPULSION ENERGY': 455.7265718596327,\n",
       "   'ONE-ELECTRON ENERGY': -1476.8942384679592,\n",
       "   'PCM POLARIZATION ENERGY': 0.0,\n",
       "   'SCF DIPOLE X': -0.4094730292125962,\n",
       "   'SCF DIPOLE Y': 3.365837001975174,\n",
       "   'SCF DIPOLE Z': 1.4725107550328682,\n",
       "   'SCF ITERATION ENERGY': -422.83362082526696,\n",
       "   'SCF ITERATIONS': 13.0,\n",
       "   'SCF TOTAL ENERGY': -422.83362082526696,\n",
       "   'TWO-ELECTRON ENERGY': 645.9509445874384,\n",
       "   'XC GRID RADIAL POINTS': 100.0,\n",
       "   'XC GRID SPHERICAL POINTS': 302.0,\n",
       "   'XC GRID TOTAL POINTS': 527684.0}},\n",
       " 'stdout': '4921058',\n",
       " 'stderr': None,\n",
       " 'error': None,\n",
       " 'manager_name': 'MolSSI_ARC_Dragonstooth_Parsl-dtlogin1-dbf524f6-c344-428f-84c7-7a494b1e1609',\n",
       " 'status': <RecordStatusEnum.complete: 'COMPLETE'>,\n",
       " 'modified_on': datetime.datetime(2019, 8, 29, 1, 33, 59, 831809),\n",
       " 'created_on': datetime.datetime(2019, 8, 27, 20, 34, 42, 188454),\n",
       " 'provenance': {'creator': 'Psi4',\n",
       "  'version': '1.4a2.dev78',\n",
       "  'routine': 'psi4.json.run_json',\n",
       "  'nthreads': 4,\n",
       "  'wall_time': 18.626322746276855,\n",
       "  'username': 'mwelborn',\n",
       "  'hostname': 'dt003',\n",
       "  'cpu': 'Intel(R) Xeon(R) CPU E5-2680 v3 @ 2.50GHz',\n",
       "  'memory': 40.533,\n",
       "  'qcengine_version': 'v0.10.0'},\n",
       " 'driver': <DriverEnum.energy: 'energy'>,\n",
       " 'method': 'b3lyp',\n",
       " 'molecule': '3694180',\n",
       " 'basis': 'def2-svp',\n",
       " 'keywords': '1',\n",
       " 'return_result': -422.83362082526696,\n",
       " 'properties': {'calcinfo_nbasis': 176,\n",
       "  'calcinfo_nmo': 176,\n",
       "  'calcinfo_nalpha': 34,\n",
       "  'calcinfo_nbeta': 34,\n",
       "  'calcinfo_natom': 19,\n",
       "  'nuclear_repulsion_energy': 455.7265718596327,\n",
       "  'return_energy': -422.83362082526696,\n",
       "  'scf_one_electron_energy': -1476.8942384679592,\n",
       "  'scf_two_electron_energy': 645.9509445874384,\n",
       "  'scf_xc_energy': -47.61689880437887,\n",
       "  'scf_dipole_moment': array([-0.40947303,  3.365837  ,  1.47251076]),\n",
       "  'scf_total_energy': -422.83362082526696,\n",
       "  'scf_iterations': 13},\n",
       " 'wavefunction': None,\n",
       " 'wavefunction_data_id': None}"
      ]
     },
     "execution_count": 12,
     "metadata": {},
     "output_type": "execute_result"
    }
   ],
   "source": [
    "records[names[0]].dict()"
   ]
  },
  {
   "cell_type": "markdown",
   "id": "310d189a-29f4-447b-85af-01963327ce67",
   "metadata": {},
   "source": [
    "The qcvars entry under extras houses a summary of the key QM data. Like geometry, extras can also be accessed either through the dict or its own entry point to get the qcvars info. Important note, if you check the units of the dataset `qm9.units`, it will report kcal/mol, however, the energy values given here are hatree."
   ]
  },
  {
   "cell_type": "code",
   "execution_count": null,
   "id": "4fe69e09-a2a7-4f93-84c6-69b2cdfe2536",
   "metadata": {},
   "outputs": [],
   "source": [
    "records[names[200]].extras['qcvars']"
   ]
  },
  {
   "cell_type": "markdown",
   "id": "a6a4d68e-fbb9-46a7-adea-300ea3a4ab2d",
   "metadata": {},
   "source": [
    "Also interesting, the entire output from the run can be accessed. "
   ]
  },
  {
   "cell_type": "code",
   "execution_count": null,
   "id": "4dc5bc65-12e3-4d4f-af57-0be46ebc33b1",
   "metadata": {},
   "outputs": [],
   "source": [
    "print(records[names[200]].get_stdout())"
   ]
  },
  {
   "cell_type": "code",
   "execution_count": null,
   "id": "1d80a817-362c-43dd-b2a2-dd3527198b59",
   "metadata": {},
   "outputs": [],
   "source": []
  },
  {
   "cell_type": "code",
   "execution_count": null,
   "id": "d69af27c-9c63-4199-818b-65a22361ed4c",
   "metadata": {},
   "outputs": [],
   "source": []
  },
  {
   "cell_type": "code",
   "execution_count": null,
   "id": "f3ff44eb-e818-4a3d-bbc5-7ac70ea75be9",
   "metadata": {},
   "outputs": [],
   "source": []
  }
 ],
 "metadata": {
  "kernelspec": {
   "display_name": "Python 3 (ipykernel)",
   "language": "python",
   "name": "python3"
  },
  "language_info": {
   "codemirror_mode": {
    "name": "ipython",
    "version": 3
   },
   "file_extension": ".py",
   "mimetype": "text/x-python",
   "name": "python",
   "nbconvert_exporter": "python",
   "pygments_lexer": "ipython3",
   "version": "3.10.12"
  }
 },
 "nbformat": 4,
 "nbformat_minor": 5
}
