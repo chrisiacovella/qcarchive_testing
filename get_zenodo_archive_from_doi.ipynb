{
 "cells": [
  {
   "cell_type": "code",
   "execution_count": 1,
   "id": "5580da22-96a8-43b0-8c5d-fde2574b4651",
   "metadata": {},
   "outputs": [],
   "source": [
    "import requests"
   ]
  },
  {
   "cell_type": "code",
   "execution_count": 2,
   "id": "1c2ec383-98bb-4639-b1b7-5f3a224d1148",
   "metadata": {},
   "outputs": [],
   "source": [
    "def hdf5_file_from_doi(doi, timeout=20):\n",
    "    # tack the doi onto doi.org \n",
    "    url = 'https://dx.doi.org/' + doi\n",
    "\n",
    "    # calling the url will return the zenodo url\n",
    "    try:\n",
    "        zenodo_url = requests.get(url, timeout=timeout)\n",
    "    except requests.exceptions.ConnectTimeout:\n",
    "        print('Timeout trying to fetch doi')\n",
    "\n",
    "    if not zenodo_url.ok:\n",
    "        print(f'{doi} could not be accessed.')\n",
    "\n",
    "    # the end of the url will be the record id which we will use \n",
    "    # to access the API\n",
    "    record_id = zenodo_url.url.split('/')[-1]\n",
    "    zenodo_api_url = 'https://zenodo.org/api/records/' + record_id\n",
    "\n",
    "    try:\n",
    "        data_request = requests.get(zenodo_api_url, timeout=timeout)\n",
    "    except requests.exceptions.ConnectTimeout:\n",
    "        print('Attempt to access Zenodo timed out')\n",
    "\n",
    "    # grab the data from zenodo\n",
    "    json_content = data_request.json()\n",
    "    files = json_content['files']\n",
    "\n",
    "    # The qcarchive data on zenodo have an archive for raw files and hdf5\n",
    "    # we want the hdf5 file\n",
    "    \n",
    "    for file in files:\n",
    "        if file['links']['self'].endswith('.hdf5.gz'):\n",
    "            hdf5_file = file['links']['self']\n",
    "            \n",
    "            return hdf5_file\n",
    "\n",
    "    return None\n",
    "    "
   ]
  },
  {
   "cell_type": "code",
   "execution_count": 4,
   "id": "5ae4c2f2-d83e-47da-bd42-8098427bfa5e",
   "metadata": {},
   "outputs": [],
   "source": [
    "#doi for QM9 dataset \n",
    "doi = '10.5281/zenodo.3588339'"
   ]
  },
  {
   "cell_type": "code",
   "execution_count": 5,
   "id": "ef72cefc-6d5c-4ff2-a25d-3dcc20cbed3f",
   "metadata": {},
   "outputs": [
    {
     "name": "stdout",
     "output_type": "stream",
     "text": [
      "https://zenodo.org/api/files/0a55a53a-69c3-4cd8-8ab8-d031ca0d6853/155.hdf5.gz\n"
     ]
    }
   ],
   "source": [
    "#get the url for the dataset\n",
    "\n",
    "print(hdf5_file_from_doi(doi))"
   ]
  },
  {
   "cell_type": "code",
   "execution_count": null,
   "id": "6557a4e3-e093-4b78-bfc4-edf36627cea8",
   "metadata": {},
   "outputs": [],
   "source": []
  }
 ],
 "metadata": {
  "kernelspec": {
   "display_name": "Python 3 (ipykernel)",
   "language": "python",
   "name": "python3"
  },
  "language_info": {
   "codemirror_mode": {
    "name": "ipython",
    "version": 3
   },
   "file_extension": ".py",
   "mimetype": "text/x-python",
   "name": "python",
   "nbconvert_exporter": "python",
   "pygments_lexer": "ipython3",
   "version": "3.11.4"
  }
 },
 "nbformat": 4,
 "nbformat_minor": 5
}
