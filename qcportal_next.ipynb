{
 "cells": [
  {
   "cell_type": "markdown",
   "id": "59bb059a-0ebb-4af1-8dc8-3162d9ded0d4",
   "metadata": {},
   "source": [
    "# QCPortal-Next\n",
    "\n",
    "This notebook explores how to access qcarchive using the \"next\" branch of the code, i.e., the new development branch. \n",
    "\n",
    "* Preliminary documentation of the new version can be found here:\n",
    "https://molssi.github.io/QCFractal/index.html\n",
    "\n",
    "* How to install:\n",
    "https://molssi.github.io/QCFractal/user_guide/client_setup.html\n",
    "\n",
    "## Notes: \n",
    "There doesn't appear to be a way to download the data locally at the moment (no hdf5 view), only in-memory cache.  The current version on github does seem to allow setting a cache directory (uses dbm to create a local database, which can be retrieved later to avoid downloading again), but the \"stable\" release on conda does not yet support this. \n",
    "\n",
    "I will have to see if the \"next\" branch is planned to have hdf5 support for local access.  I think the plan to generate our own hdf5 files from data in qcarchive is probably the way to go for fast access. "
   ]
  },
  {
   "cell_type": "code",
   "execution_count": 1,
   "id": "0d15c343-2829-4008-8017-6567e58b9622",
   "metadata": {},
   "outputs": [],
   "source": [
    "from qcportal import PortalClient\n",
    "import h5py\n",
    "import numpy as np"
   ]
  },
  {
   "cell_type": "code",
   "execution_count": 2,
   "id": "26f17f2e-760e-42b8-9b6a-da1aa2dabb84",
   "metadata": {},
   "outputs": [],
   "source": [
    "class QM9:\n",
    "    \n",
    "    def __init__(self, name='QM9_b3lyp_def2-svp'):\n",
    "        self._set_dataset_handle(dataset_type='singlepoint', dataset_name='QM9')\n",
    "        self.name = name\n",
    "        self.n_datapoints = len(self.ds.entry_names)\n",
    "    \n",
    "    @property\n",
    "    def name(self):\n",
    "        return self._name\n",
    "        \n",
    "    @name.setter\n",
    "    def name(self, name):\n",
    "        self._name = name \n",
    "\n",
    "    @property\n",
    "    def n_datapoints(self):\n",
    "        return self._n_datapoints\n",
    "        \n",
    "    @n_datapoints.setter\n",
    "    def n_datapoints(self, n_points):\n",
    "        self._n_datapoints = n_points \n",
    "\n",
    "    def description(self):\n",
    "        return self.ds.dict()['description']\n",
    "\n",
    "    def citations(self):\n",
    "        return self.ds.metadata['citations']\n",
    "        \n",
    "    def _set_dataset_handle(self, dataset_type='singlepoint', dataset_name='QM9'):\n",
    "        \"\"\"Load the QM9 datset sourced from qcportal\n",
    "        \n",
    "        Parameters\n",
    "        ----------\n",
    "        dataset_type : str, required, default=None\n",
    "            singlepoint\n",
    "        dataset_name : str, required, default=None\n",
    "            The name defining where to save the dataset locally.\n",
    "            If input_file and output_file are both None, the dataset will be deleted upon exit.\n",
    "    \n",
    "        \"\"\"\n",
    "        client = PortalClient()\n",
    "    \n",
    "        # to get QM9 from qcportal, we need to define which collection and QM9\n",
    "        # we will first check to see if it exists \n",
    "        qcportal_data = {'dataset_type': 'singlepoint', 'dataset_name': 'QM9'}\n",
    "    \n",
    "        try: \n",
    "            self.ds = client.get_dataset(dataset_type=dataset_type, dataset_name=dataset_name)\n",
    "        except:\n",
    "            print(f\"Dataset {dataset_name} is not available in collection {dataset_type}.\")\n",
    "        \n",
    "        self.entry_names = self.ds.entry_names\n",
    "\n",
    "    def get_record(self, index):\n",
    "        if index >= self.n_datapoints:\n",
    "            raise Exception(f'{self.n_datapoints} datapoints in dataset.')\n",
    "        \n",
    "        record_name = self.entry_names[self.n]\n",
    "        geometry = self.ds.get_entry(record_name).dict()['molecule']['geometry']\n",
    "        atomic_numbers = self.ds.get_entry(record_name).dict()['molecule']['atomic_numbers']\n",
    "        mol_form = self.ds.get_entry(record_name).dict()['molecule']['identifiers']['molecular_formula']\n",
    "\n",
    "        #note seems to be a little bit of a bug here in the setup of this dataset.  specification_name resolves to what seems to be \n",
    "        # default assigned names, i.e. spec_1, spec_2, instead of the actual methods\n",
    "        # in this case, spec_2 corresponds to: 'method': 'b3lyp' 'basis': 'def2-svp'\n",
    "        \n",
    "        energy = self.ds.get_record(record_name, specification_name='spec_2').dict()['properties']['dft functional total energy']\n",
    "        result = {'record_name': record_name, 'molecular_formula':mol_form, 'energy': energy, 'atomic_numbers': atomic_numbers, 'geometry': geometry}\n",
    "        return result\n",
    "    \n",
    "    def __iter__(self):\n",
    "        self.n = 0\n",
    "        return self\n",
    "\n",
    "    def __next__(self):\n",
    "        if self.n < self.n_datapoints:\n",
    "            result =  self.get_record(self.n)\n",
    "            self.n += 1\n",
    "            return result\n",
    "        else:\n",
    "            raise StopIteration\n",
    "    "
   ]
  },
  {
   "cell_type": "code",
   "execution_count": 3,
   "id": "7dbdebc5-9b32-402b-925d-3d029ac7d156",
   "metadata": {},
   "outputs": [],
   "source": [
    "qm9 = QM9()"
   ]
  },
  {
   "cell_type": "code",
   "execution_count": 4,
   "id": "5c8dfa3c-b601-4d1c-bd55-5ec349ecb8a0",
   "metadata": {},
   "outputs": [
    {
     "data": {
      "text/plain": [
       "'Small organic molecules with up to 9 heavy atoms sampled from GDB-17, optimized at the B3LYP/6-31G(2df,p) level of theory. Ground state, orbital, and thermodynamic properties are available (at the B3LYP/6-31G(2df,p) level). All molecules are neutral singlets. This dataset was sourced from <a href=\"http://quantum-machine.org/datasets/\">quantum-machine.org</a> and <a href=\"https://qmml.org/datasets.html\">qmml.org</a>.'"
      ]
     },
     "execution_count": 4,
     "metadata": {},
     "output_type": "execute_result"
    }
   ],
   "source": [
    "qm9.description()"
   ]
  },
  {
   "cell_type": "code",
   "execution_count": 5,
   "id": "b05c2a84-fa32-4c48-9ed3-e974016ddd88",
   "metadata": {},
   "outputs": [
    {
     "data": {
      "text/plain": [
       "[{'doi': '10.1021/ja902302h',\n",
       "  'url': 'https://pubs.acs.org/doi/abs/10.1021/ja902302h',\n",
       "  'bibtex': '\\n@article{blum2009970,\\n  title={970 million druglike small molecules for virtual screening in the chemical universe database GDB-13},\\n  author={Blum, Lorenz C and Reymond, Jean-Louis},\\n  journal={Journal of the American Chemical Society},\\n  volume={131},\\n  number={25},\\n  pages={8732--8733},\\n  year={2009},\\n  publisher={ACS Publications}\\n}\\n',\n",
       "  'acs_citation': ' Blum, L. C. &amp; Reymond, J.-L. 970 million druglike small molecules for virtual screening in the chemical universe database GDB-13. <em>JACS, </em><b>2009</b><i>, 131</i>, 8732-8733.'},\n",
       " {'doi': '10.1038/sdata.2014.22',\n",
       "  'url': 'https://www.nature.com/articles/sdata201422',\n",
       "  'bibtex': '\\n@article{ramakrishnan2014quantum,\\n  title={Quantum chemistry structures and properties of 134 kilo molecules},\\n  author={Ramakrishnan, Raghunathan and Dral, Pavlo O and Rupp, Matthias and Von Lilienfeld, O Anatole},\\n  journal={Scientific data},\\n  volume={1},\\n  pages={140022},\\n  year={2014},\\n  publisher={Nature Publishing Group}\\n}\\n',\n",
       "  'acs_citation': 'Ramakrishnan, R.; Dral, P. O.; Rupp, M. &amp; Von Lilienfeld, O. A. Quantum chemistry structures and properties of 134 kilo molecules. <em>Sci. Data, </em><b>2014</b><i>, 1</i>, 140022.'}]"
      ]
     },
     "execution_count": 5,
     "metadata": {},
     "output_type": "execute_result"
    }
   ],
   "source": [
    "qm9.citations()"
   ]
  },
  {
   "cell_type": "markdown",
   "id": "437b46f8-77b2-4b7a-be29-459dc7148e23",
   "metadata": {},
   "source": [
    "Print out the first 5 records, providing the formula, energy, then elements/geometry info"
   ]
  },
  {
   "cell_type": "code",
   "execution_count": 6,
   "id": "a2eb9783-ae43-41c3-b42c-de419f8ae9b9",
   "metadata": {},
   "outputs": [
    {
     "name": "stdout",
     "output_type": "stream",
     "text": [
      "('record_name', 'dsgdb9nsd_000001')\n",
      "('molecular_formula', 'CH4')\n",
      "('energy', -40.48768186718216)\n",
      "('atomic_numbers', array([6, 1, 1, 1, 1], dtype=int16))\n",
      "('geometry', array([[-2.39960000e-02,  2.05187248e+00,  1.51196900e-02],\n",
      "       [ 4.06370000e-03, -1.13975400e-02,  3.73433000e-03],\n",
      "       [ 1.91189421e+00,  2.76608881e+00,  5.22650000e-04],\n",
      "       [-1.02199236e+00,  2.73542886e+00, -1.65661653e+00],\n",
      "       [-9.89864310e-01,  2.71729888e+00,  1.71284265e+00]]))\n",
      "----\n",
      "('record_name', 'dsgdb9nsd_000002')\n",
      "('molecular_formula', 'H3N')\n",
      "('energy', -56.50942558886665)\n",
      "('atomic_numbers', array([7, 1, 1, 1], dtype=int16))\n",
      "('geometry', array([[-0.07639417,  1.93528318,  0.11822845],\n",
      "       [ 0.03261188,  0.023707  , -0.05173533],\n",
      "       [ 1.73059109,  2.56765629, -0.05434429],\n",
      "       [-0.98318243,  2.53890776, -1.46556314]]))\n",
      "----\n",
      "('record_name', 'dsgdb9nsd_000003')\n",
      "('molecular_formula', 'H2O')\n",
      "('energy', -76.35828223086327)\n",
      "('atomic_numbers', array([8, 1, 1], dtype=int16))\n",
      "('geometry', array([[-6.49319300e-02,  1.84728207e+00,  1.43649300e-02],\n",
      "       [ 1.22390930e-01,  3.88758200e-02,  2.90004000e-03],\n",
      "       [ 1.64744505e+00,  2.45814139e+00,  1.30983000e-03]]))\n",
      "----\n",
      "('record_name', 'dsgdb9nsd_000004')\n",
      "('molecular_formula', 'C2H2')\n",
      "('energy', -77.27226197926758)\n",
      "('atomic_numbers', array([6, 6, 1, 1], dtype=int16))\n",
      "('geometry', array([[ 1.13296544,  0.        ,  1.88972613],\n",
      "       [-1.13296544,  0.        ,  1.88972613],\n",
      "       [-3.14004185,  0.        ,  1.88972613],\n",
      "       [ 3.14004185,  0.        ,  1.88972613]]))\n",
      "----\n",
      "('record_name', 'dsgdb9nsd_000005')\n",
      "('molecular_formula', 'CHN')\n",
      "('energy', -93.35192872891653)\n",
      "('atomic_numbers', array([6, 7, 1], dtype=int16))\n",
      "('geometry', array([[-2.51785800e-02,  2.14005005e+00,  1.56391600e-02],\n",
      "       [ 4.36663000e-03, -3.62044800e-02,  3.64477000e-03],\n",
      "       [-5.25394900e-02,  4.15541193e+00,  2.67467900e-02]]))\n",
      "----\n"
     ]
    }
   ],
   "source": [
    "for i, record in enumerate(qm9):\n",
    "    if i < 5:\n",
    "        for item in record.items(): print(item)\n",
    "        print('----')\n",
    "    else:\n",
    "        break"
   ]
  },
  {
   "cell_type": "code",
   "execution_count": null,
   "id": "fea83a55-33ef-45c5-9ef2-9a636a8ff499",
   "metadata": {},
   "outputs": [],
   "source": [
    "qm9.ds.get_entry('dsgdb9nsd_000001').dict()['molecule']['atomic_numbers']\n"
   ]
  },
  {
   "cell_type": "markdown",
   "id": "3e519630-5e64-4d50-a132-8530d4f40308",
   "metadata": {},
   "source": [
    "Example of grabbing info from an individual record:"
   ]
  },
  {
   "cell_type": "code",
   "execution_count": null,
   "id": "2ca9353c-530a-4e44-b86e-ae62b83767f9",
   "metadata": {},
   "outputs": [],
   "source": [
    "qm9.ds.get_record('dsgdb9nsd_000001', specification_name='spec_2').dict()\n"
   ]
  },
  {
   "cell_type": "markdown",
   "id": "70a37cf4-4aac-4d65-8757-9a59288e54c7",
   "metadata": {},
   "source": [
    "Main info in the top level dataset"
   ]
  },
  {
   "cell_type": "code",
   "execution_count": null,
   "id": "17ba022c-8b1d-4274-9ec2-677f9ae21096",
   "metadata": {},
   "outputs": [],
   "source": [
    "qm9.ds.dict()"
   ]
  },
  {
   "cell_type": "markdown",
   "id": "d37fef4a-5d2f-4c5a-9ba0-813dcea737c9",
   "metadata": {},
   "source": [
    "Generate a minimal hdf5 file from the first 20 entries as a test. "
   ]
  },
  {
   "cell_type": "code",
   "execution_count": null,
   "id": "78519b6f-9ba2-485b-9a61-533869be4ed9",
   "metadata": {},
   "outputs": [],
   "source": [
    "dt = h5py.special_dtype(vlen=str) \n",
    "\n",
    "f = h5py.File('n20_qm9.hdf5', 'w')\n",
    "\n",
    "for i, record in enumerate(qm9):\n",
    "    if i < 20:\n",
    "        group = f.create_group(record['record_name'])\n",
    "    \n",
    "        group.create_dataset(name='energy', data=record['energy'])\n",
    "        group.create_dataset(name='molecular_formula', data=record['molecular_formula'], dtype=dt)\n",
    "        group.create_dataset(name='index', data=i)\n",
    "        group.create_dataset(name='geometry', data=record['geometry'], chunks=True, compression='gzip')\n",
    "        group.create_dataset(name='atomic_numbers', data=np.array(record['atomic_numbers']), chunks=True, compression='gzip')\n",
    "    else:\n",
    "        break\n",
    "    \n",
    "f.close()"
   ]
  },
  {
   "cell_type": "markdown",
   "id": "a98f5cd9-f158-4ab5-8d5d-d2e9713191a8",
   "metadata": {},
   "source": [
    "Read in the file we just created and shuffle the entires"
   ]
  },
  {
   "cell_type": "code",
   "execution_count": null,
   "id": "bd9b04f8-0cdb-42de-9c2d-fab5db97f0ae",
   "metadata": {},
   "outputs": [],
   "source": [
    "with h5py.File('n20_qm9.hdf5','r') as hf: \n",
    "    print('n_entries ', len(hf.keys()))\n",
    "\n",
    "    mols = [mol for mol in hf.keys()]\n",
    "    \n",
    "    np.random.shuffle(mols)\n",
    "    for mol in mols:\n",
    "        print(f'---\\n{mol}')\n",
    "        for it in hf[mol].keys():\n",
    "            print(f'{it} {hf[mol][it][()]}')"
   ]
  },
  {
   "cell_type": "code",
   "execution_count": null,
   "id": "f5275f53-571d-43bb-8a99-53922548774c",
   "metadata": {},
   "outputs": [],
   "source": [
    "dt = h5py.special_dtype(vlen=str) \n",
    "\n",
    "f = h5py.File('test_qm9.hdf5', 'w')\n",
    "\n",
    "for i, record in enumerate(qm9):\n",
    "    group = f.create_group(record['record_name'])\n",
    "\n",
    "    group.create_dataset(name='energy', data=record['energy'])\n",
    "    group.create_dataset(name='molecular_formula', data=record['molecular_formula'], dtype=dt)\n",
    "    group.create_dataset(name='index', data=i)\n",
    "    group.create_dataset(name='geometry', data=record['geometry'], chunks=True, compression='gzip')\n",
    "    group.create_dataset(name='atomic_numbers', data=np.array(record['atomic_numbers']), chunks=True, compression='gzip')\n",
    "    \n",
    "f.close()"
   ]
  },
  {
   "cell_type": "code",
   "execution_count": null,
   "id": "ae65566c-abc0-4f87-8788-db355038aa4c",
   "metadata": {},
   "outputs": [],
   "source": []
  }
 ],
 "metadata": {
  "kernelspec": {
   "display_name": "Python 3 (ipykernel)",
   "language": "python",
   "name": "python3"
  },
  "language_info": {
   "codemirror_mode": {
    "name": "ipython",
    "version": 3
   },
   "file_extension": ".py",
   "mimetype": "text/x-python",
   "name": "python",
   "nbconvert_exporter": "python",
   "pygments_lexer": "ipython3",
   "version": "3.11.4"
  }
 },
 "nbformat": 4,
 "nbformat_minor": 5
}
